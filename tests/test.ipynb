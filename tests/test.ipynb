{
 "cells": [
  {
   "cell_type": "markdown",
   "metadata": {},
   "source": []
  },
  {
   "cell_type": "code",
   "execution_count": 1,
   "metadata": {},
   "outputs": [
    {
     "ename": "ValueError",
     "evalue": "Method not implemented",
     "output_type": "error",
     "traceback": [
      "\u001b[0;31m---------------------------------------------------------------------------\u001b[0m",
      "\u001b[0;31mValueError\u001b[0m                                Traceback (most recent call last)",
      "\u001b[1;32m/Users/danielcortild/RuG Drive/MA1/Block 1A/Multiscale Numerical Methods/Final Report/Python Code/tests/test.ipynb Cell 2\u001b[0m line \u001b[0;36m5\n\u001b[1;32m      <a href='vscode-notebook-cell:/Users/danielcortild/RuG%20Drive/MA1/Block%201A/Multiscale%20Numerical%20Methods/Final%20Report/Python%20Code/tests/test.ipynb#W1sZmlsZQ%3D%3D?line=1'>2</a>\u001b[0m sys\u001b[39m.\u001b[39mpath\u001b[39m.\u001b[39mappend(\u001b[39m'\u001b[39m\u001b[39m../src\u001b[39m\u001b[39m'\u001b[39m)\n\u001b[1;32m      <a href='vscode-notebook-cell:/Users/danielcortild/RuG%20Drive/MA1/Block%201A/Multiscale%20Numerical%20Methods/Final%20Report/Python%20Code/tests/test.ipynb#W1sZmlsZQ%3D%3D?line=2'>3</a>\u001b[0m \u001b[39mfrom\u001b[39;00m \u001b[39mSWE_Solver\u001b[39;00m \u001b[39mimport\u001b[39;00m exampleSWE\n\u001b[0;32m----> <a href='vscode-notebook-cell:/Users/danielcortild/RuG%20Drive/MA1/Block%201A/Multiscale%20Numerical%20Methods/Final%20Report/Python%20Code/tests/test.ipynb#W1sZmlsZQ%3D%3D?line=4'>5</a>\u001b[0m _ \u001b[39m=\u001b[39m exampleSWE(\u001b[39m\"\u001b[39;49m\u001b[39mspike_flattening\u001b[39;49m\u001b[39m\"\u001b[39;49m, \u001b[39m'\u001b[39;49m\u001b[39ma\u001b[39;49m\u001b[39m'\u001b[39;49m)\n",
      "File \u001b[0;32m~/RuG Drive/MA1/Block 1A/Multiscale Numerical Methods/Final Report/Python Code/tests/../src/SWE_Solver/examples.py:128\u001b[0m, in \u001b[0;36mexampleSWE\u001b[0;34m(state, method)\u001b[0m\n\u001b[1;32m    126\u001b[0m     \u001b[39mreturn\u001b[39;00m plotSWE([B, Bx], h0, u0, Nx, tEnd, timePoints, g, method)\n\u001b[1;32m    127\u001b[0m \u001b[39melse\u001b[39;00m:\n\u001b[0;32m--> 128\u001b[0m     \u001b[39mraise\u001b[39;00m \u001b[39mValueError\u001b[39;00m(\u001b[39m\"\u001b[39m\u001b[39mMethod not implemented\u001b[39m\u001b[39m\"\u001b[39m)\n",
      "\u001b[0;31mValueError\u001b[0m: Method not implemented"
     ]
    }
   ],
   "source": [
    "import sys\n",
    "sys.path.append('../src')\n",
    "from SWE_Solver import exampleSWE\n",
    "\n",
    "_ = exampleSWE(\"spike_flattening\", 'A')"
   ]
  },
  {
   "cell_type": "code",
   "execution_count": 2,
   "metadata": {},
   "outputs": [],
   "source": [
    "a = 0\n",
    "c = 1 / a if a != 0 else 1"
   ]
  },
  {
   "cell_type": "code",
   "execution_count": 3,
   "metadata": {},
   "outputs": [
    {
     "data": {
      "text/plain": [
       "1"
      ]
     },
     "execution_count": 3,
     "metadata": {},
     "output_type": "execute_result"
    }
   ],
   "source": [
    "c"
   ]
  },
  {
   "cell_type": "code",
   "execution_count": null,
   "metadata": {},
   "outputs": [],
   "source": []
  }
 ],
 "metadata": {
  "kernelspec": {
   "display_name": "Python 3",
   "language": "python",
   "name": "python3"
  },
  "language_info": {
   "codemirror_mode": {
    "name": "ipython",
    "version": 3
   },
   "file_extension": ".py",
   "mimetype": "text/x-python",
   "name": "python",
   "nbconvert_exporter": "python",
   "pygments_lexer": "ipython3",
   "version": "3.11.5"
  }
 },
 "nbformat": 4,
 "nbformat_minor": 2
}
